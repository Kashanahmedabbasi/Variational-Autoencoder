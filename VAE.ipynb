{
  "nbformat": 4,
  "nbformat_minor": 0,
  "metadata": {
    "colab": {
      "provenance": [],
      "gpuType": "T4"
    },
    "kernelspec": {
      "name": "python3",
      "display_name": "Python 3"
    },
    "language_info": {
      "name": "python"
    },
    "accelerator": "GPU"
  },
  "cells": [
    {
      "cell_type": "markdown",
      "source": [
        "# Libraries"
      ],
      "metadata": {
        "id": "x68Hyxo--dne"
      }
    },
    {
      "cell_type": "code",
      "execution_count": 16,
      "metadata": {
        "id": "PDpIo0FClX-R"
      },
      "outputs": [],
      "source": [
        "import tensorflow as tf\n",
        "import numpy as np\n",
        "from tensorflow.keras.layers import Input,Conv2D,Conv2DTranspose,Reshape,Dense,Flatten,Layer\n",
        "from keras.engine.training import Model\n",
        "import matplotlib.pyplot as plt"
      ]
    },
    {
      "cell_type": "markdown",
      "source": [
        "# Load Dataset"
      ],
      "metadata": {
        "id": "HSNzwo2y-htF"
      }
    },
    {
      "cell_type": "code",
      "source": [
        "(x_train,_),(x_test,_)=tf.keras.datasets.mnist.load_data()\n",
        "data = np.concatenate([x_train,x_test],axis=0)\n",
        "data = np.expand_dims(data,-1).astype('float32')/255"
      ],
      "metadata": {
        "colab": {
          "base_uri": "https://localhost:8080/"
        },
        "id": "JQnQynp5lu4C",
        "outputId": "3dee9a8e-2df3-4296-a1d9-9b8eb74daeda"
      },
      "execution_count": 3,
      "outputs": [
        {
          "output_type": "stream",
          "name": "stdout",
          "text": [
            "Downloading data from https://storage.googleapis.com/tensorflow/tf-keras-datasets/mnist.npz\n",
            "11490434/11490434 [==============================] - 0s 0us/step\n"
          ]
        }
      ]
    },
    {
      "cell_type": "code",
      "source": [
        "data = tf.data.Dataset.from_tensor_slices(data)"
      ],
      "metadata": {
        "id": "52mBerOOmR-M"
      },
      "execution_count": 4,
      "outputs": []
    },
    {
      "cell_type": "markdown",
      "source": [
        "# TF Pipeline"
      ],
      "metadata": {
        "id": "wiWBknz1-lou"
      }
    },
    {
      "cell_type": "code",
      "source": [
        "train_data  = data.shuffle(buffer_size=1024,reshuffle_each_iteration=True).batch(128).prefetch(tf.data.AUTOTUNE)"
      ],
      "metadata": {
        "id": "amOuuTRCmR7h"
      },
      "execution_count": 115,
      "outputs": []
    },
    {
      "cell_type": "code",
      "source": [
        "Latent_dim=2\n",
        "Batch_size=128"
      ],
      "metadata": {
        "id": "XJJrFlxOm4qI"
      },
      "execution_count": 116,
      "outputs": []
    },
    {
      "cell_type": "code",
      "source": [
        "class Sampling(Layer):\n",
        "  def call(self,inputs):\n",
        "    mean,log_var=inputs\n",
        "    return mean+tf.math.exp(0.5*log_var)*tf.random.normal(shape=(128,2))"
      ],
      "metadata": {
        "id": "YAYz5rGjpsw9"
      },
      "execution_count": 174,
      "outputs": []
    },
    {
      "cell_type": "markdown",
      "source": [
        "# Encoder"
      ],
      "metadata": {
        "id": "PgOt9Z0b-p-Y"
      }
    },
    {
      "cell_type": "code",
      "source": [
        "encoder_inputs = Input(shape=(28,28,1))\n",
        "x=Conv2D(32,3,activation='relu',padding='same',strides=2)(encoder_inputs)\n",
        "x=Conv2D(64,3,activation='relu',padding='same',strides=2)(x)\n",
        "x=Flatten()(x)\n",
        "\n",
        "x = Dense(16,activation='relu')(x)\n",
        "\n",
        "mean = Dense(Latent_dim,)(x)\n",
        "log_var = Dense(Latent_dim,)(x)\n",
        "\n",
        "z= Sampling()([mean,log_var])\n",
        "\n",
        "encoder = Model(encoder_inputs,[z,mean,log_var],name='encoder')\n",
        "encoder.summary()"
      ],
      "metadata": {
        "colab": {
          "base_uri": "https://localhost:8080/"
        },
        "id": "sUbKZSIZnF3n",
        "outputId": "eb3905ae-1880-4368-af31-d2a56c3c1dcd"
      },
      "execution_count": 175,
      "outputs": [
        {
          "output_type": "stream",
          "name": "stdout",
          "text": [
            "Model: \"encoder\"\n",
            "__________________________________________________________________________________________________\n",
            " Layer (type)                   Output Shape         Param #     Connected to                     \n",
            "==================================================================================================\n",
            " input_44 (InputLayer)          [(None, 28, 28, 1)]  0           []                               \n",
            "                                                                                                  \n",
            " conv2d_42 (Conv2D)             (None, 14, 14, 32)   320         ['input_44[0][0]']               \n",
            "                                                                                                  \n",
            " conv2d_43 (Conv2D)             (None, 7, 7, 64)     18496       ['conv2d_42[0][0]']              \n",
            "                                                                                                  \n",
            " flatten_21 (Flatten)           (None, 3136)         0           ['conv2d_43[0][0]']              \n",
            "                                                                                                  \n",
            " dense_71 (Dense)               (None, 16)           50192       ['flatten_21[0][0]']             \n",
            "                                                                                                  \n",
            " dense_72 (Dense)               (None, 2)            34          ['dense_71[0][0]']               \n",
            "                                                                                                  \n",
            " dense_73 (Dense)               (None, 2)            34          ['dense_71[0][0]']               \n",
            "                                                                                                  \n",
            " sampling_21 (Sampling)         (128, 2)             0           ['dense_72[0][0]',               \n",
            "                                                                  'dense_73[0][0]']               \n",
            "                                                                                                  \n",
            "==================================================================================================\n",
            "Total params: 69,076\n",
            "Trainable params: 69,076\n",
            "Non-trainable params: 0\n",
            "__________________________________________________________________________________________________\n"
          ]
        }
      ]
    },
    {
      "cell_type": "markdown",
      "source": [
        "# Decoder"
      ],
      "metadata": {
        "id": "W3EzOQqk-szy"
      }
    },
    {
      "cell_type": "code",
      "source": [
        "latent_inputs = Input(shape=(Latent_dim,))\n",
        "x= Dense(7*7*64,activation='relu')(latent_inputs)\n",
        "x= Reshape((7,7,64))(x)\n",
        "\n",
        "x= Conv2DTranspose(64,3,strides=2,activation='relu',padding='same')(x)\n",
        "x= Conv2DTranspose(64,3,strides=2,activation='relu',padding='same')(x)\n",
        "output= Conv2DTranspose(1,3,activation='sigmoid',padding='same')(x)\n",
        "\n",
        "decoder = Model(latent_inputs,output,name='decoder')\n",
        "\n",
        "decoder.summary()\n"
      ],
      "metadata": {
        "colab": {
          "base_uri": "https://localhost:8080/"
        },
        "id": "WI49dyoNnF1H",
        "outputId": "6a2519bb-b7a1-422c-9286-d8afd860dec4"
      },
      "execution_count": 176,
      "outputs": [
        {
          "output_type": "stream",
          "name": "stdout",
          "text": [
            "Model: \"decoder\"\n",
            "_________________________________________________________________\n",
            " Layer (type)                Output Shape              Param #   \n",
            "=================================================================\n",
            " input_45 (InputLayer)       [(None, 2)]               0         \n",
            "                                                                 \n",
            " dense_74 (Dense)            (None, 3136)              9408      \n",
            "                                                                 \n",
            " reshape_8 (Reshape)         (None, 7, 7, 64)          0         \n",
            "                                                                 \n",
            " conv2d_transpose_24 (Conv2D  (None, 14, 14, 64)       36928     \n",
            " Transpose)                                                      \n",
            "                                                                 \n",
            " conv2d_transpose_25 (Conv2D  (None, 28, 28, 64)       36928     \n",
            " Transpose)                                                      \n",
            "                                                                 \n",
            " conv2d_transpose_26 (Conv2D  (None, 28, 28, 1)        577       \n",
            " Transpose)                                                      \n",
            "                                                                 \n",
            "=================================================================\n",
            "Total params: 83,841\n",
            "Trainable params: 83,841\n",
            "Non-trainable params: 0\n",
            "_________________________________________________________________\n"
          ]
        }
      ]
    },
    {
      "cell_type": "code",
      "source": [
        "optimizer = tf.keras.optimizers.Adam(learning_rate=1e-3)\n",
        "epoch=20"
      ],
      "metadata": {
        "id": "ZRfgXNtxnFys"
      },
      "execution_count": 177,
      "outputs": []
    },
    {
      "cell_type": "markdown",
      "source": [
        "# Calculate Loss"
      ],
      "metadata": {
        "id": "Pop_nO9a-vZU"
      }
    },
    {
      "cell_type": "code",
      "source": [
        "def calculate_loss(y_true,y_pred,mean,log_var):\n",
        "  reconstruction_loss = tf.reduce_mean(tf.reduce_sum(tf.keras.losses.binary_crossentropy(y_true,y_pred),axis=(1,2)))\n",
        "  regularization_loss = tf.reduce_mean(tf.reduce_sum(-0.5*(log_var+1-tf.math.square(mean)-tf.math.exp(log_var)),axis=1))\n",
        "  return reconstruction_loss+regularization_loss"
      ],
      "metadata": {
        "id": "YRq_eZ7-vhfc"
      },
      "execution_count": 178,
      "outputs": []
    },
    {
      "cell_type": "markdown",
      "source": [
        "# Training"
      ],
      "metadata": {
        "id": "Lvc7UNy1-x3n"
      }
    },
    {
      "cell_type": "code",
      "source": [
        "def training(x_batch):\n",
        "  with tf.GradientTape() as tape:\n",
        "    z,mean,log_var = encoder(x_batch)\n",
        "    y_pred = decoder(z)\n",
        "    y_true = x_batch\n",
        "    loss = calculate_loss(y_true,y_pred,mean,log_var)\n",
        "  partial_derivate = tape.gradient(loss,vae.trainable_weights)\n",
        "  optimizer.apply_gradients(zip(partial_derivate,vae.trainable_weights))\n",
        "  return loss"
      ],
      "metadata": {
        "id": "nAtYuYW0xsGd"
      },
      "execution_count": 179,
      "outputs": []
    },
    {
      "cell_type": "markdown",
      "source": [
        "# VAE"
      ],
      "metadata": {
        "id": "TDNXGn8l-0c1"
      }
    },
    {
      "cell_type": "code",
      "source": [
        "vae_input = Input(shape=(28,28,1))\n",
        "z,_,_ = encoder(vae_input)\n",
        "output=decoder(z)\n",
        "vae = Model(vae_input,output,name='vae')\n",
        "vae.summary()"
      ],
      "metadata": {
        "colab": {
          "base_uri": "https://localhost:8080/"
        },
        "id": "022UeG8Lvhcw",
        "outputId": "eda1460d-42c2-4193-c191-26539051580a"
      },
      "execution_count": 180,
      "outputs": [
        {
          "output_type": "stream",
          "name": "stdout",
          "text": [
            "Model: \"vae\"\n",
            "_________________________________________________________________\n",
            " Layer (type)                Output Shape              Param #   \n",
            "=================================================================\n",
            " input_46 (InputLayer)       [(None, 28, 28, 1)]       0         \n",
            "                                                                 \n",
            " encoder (Functional)        [(128, 2),                69076     \n",
            "                              (None, 2),                         \n",
            "                              (None, 2)]                         \n",
            "                                                                 \n",
            " decoder (Functional)        (None, 28, 28, 1)         83841     \n",
            "                                                                 \n",
            "=================================================================\n",
            "Total params: 152,917\n",
            "Trainable params: 152,917\n",
            "Non-trainable params: 0\n",
            "_________________________________________________________________\n"
          ]
        }
      ]
    },
    {
      "cell_type": "markdown",
      "source": [
        "# Run Model"
      ],
      "metadata": {
        "id": "_clAaavZ-2wm"
      }
    },
    {
      "cell_type": "code",
      "source": [
        "def run(epochs):\n",
        "  for epoch in range(1,epochs+1):\n",
        "    print(f'Epoch={epoch}')\n",
        "\n",
        "    for step,x_batch in enumerate(train_data.take(100)):\n",
        "      loss=training(x_batch)\n",
        "    print(f'Training Loss={loss}')"
      ],
      "metadata": {
        "id": "lH7TNbaavhW1"
      },
      "execution_count": 181,
      "outputs": []
    },
    {
      "cell_type": "code",
      "source": [
        "run(epoch)"
      ],
      "metadata": {
        "colab": {
          "base_uri": "https://localhost:8080/"
        },
        "id": "Mj6JlUZSzlzb",
        "outputId": "fd798366-b4ad-4d01-ed99-b5766df222d2"
      },
      "execution_count": 182,
      "outputs": [
        {
          "output_type": "stream",
          "name": "stdout",
          "text": [
            "Epoch=1\n",
            "Training Loss=210.67579650878906\n",
            "Epoch=2\n",
            "Training Loss=208.8356475830078\n",
            "Epoch=3\n",
            "Training Loss=208.49327087402344\n",
            "Epoch=4\n",
            "Training Loss=186.6053466796875\n",
            "Epoch=5\n",
            "Training Loss=182.1016845703125\n",
            "Epoch=6\n",
            "Training Loss=170.9310760498047\n",
            "Epoch=7\n",
            "Training Loss=179.13330078125\n",
            "Epoch=8\n",
            "Training Loss=170.9808807373047\n",
            "Epoch=9\n",
            "Training Loss=174.7168426513672\n",
            "Epoch=10\n",
            "Training Loss=171.49110412597656\n",
            "Epoch=11\n",
            "Training Loss=173.5630340576172\n",
            "Epoch=12\n",
            "Training Loss=164.29876708984375\n",
            "Epoch=13\n",
            "Training Loss=170.7241973876953\n",
            "Epoch=14\n",
            "Training Loss=162.2822723388672\n",
            "Epoch=15\n",
            "Training Loss=167.61305236816406\n",
            "Epoch=16\n",
            "Training Loss=167.7314910888672\n",
            "Epoch=17\n",
            "Training Loss=165.37353515625\n",
            "Epoch=18\n",
            "Training Loss=160.69448852539062\n",
            "Epoch=19\n",
            "Training Loss=159.0235595703125\n",
            "Epoch=20\n",
            "Training Loss=155.18597412109375\n"
          ]
        }
      ]
    },
    {
      "cell_type": "code",
      "source": [
        "lst = [[-0.5,0],[-1,1],[-0.5,0.43],[0,1],[-1,-0.9],[-0.7,1],[-1,-0.8],[-0.7,0.6],[0.4,-0.3]]"
      ],
      "metadata": {
        "id": "ZP4OpeAX8fNL"
      },
      "execution_count": 193,
      "outputs": []
    },
    {
      "cell_type": "markdown",
      "source": [
        "# Evaluation"
      ],
      "metadata": {
        "id": "rgsTgQT9-5h-"
      }
    },
    {
      "cell_type": "code",
      "source": [
        "plt.figure(figsize=(10,5))\n",
        "for i in range(len(lst)):\n",
        "  plt.subplot(3,3,i+1)\n",
        "  plt.imshow(vae.layers[2].predict(tf.constant([lst[i]]))[0][...,0],cmap='gray')"
      ],
      "metadata": {
        "colab": {
          "base_uri": "https://localhost:8080/",
          "height": 605
        },
        "id": "uclMADSu6sAB",
        "outputId": "68fa6bdf-eb6b-487b-de20-c461a81e3000"
      },
      "execution_count": 194,
      "outputs": [
        {
          "output_type": "stream",
          "name": "stdout",
          "text": [
            "1/1 [==============================] - 0s 17ms/step\n",
            "1/1 [==============================] - 0s 18ms/step\n",
            "1/1 [==============================] - 0s 18ms/step\n",
            "1/1 [==============================] - 0s 21ms/step\n",
            "1/1 [==============================] - 0s 21ms/step\n",
            "1/1 [==============================] - 0s 20ms/step\n",
            "1/1 [==============================] - 0s 18ms/step\n",
            "1/1 [==============================] - 0s 19ms/step\n",
            "1/1 [==============================] - 0s 23ms/step\n"
          ]
        },
        {
          "output_type": "display_data",
          "data": {
            "text/plain": [
              "<Figure size 1000x500 with 9 Axes>"
            ],
            "image/png": "[encoded data removed]"
          },
          "metadata": {}
        }
      ]
    }
  ]
}